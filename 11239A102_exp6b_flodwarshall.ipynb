{
  "nbformat": 4,
  "nbformat_minor": 0,
  "metadata": {
    "colab": {
      "provenance": [],
      "authorship_tag": "ABX9TyOhQ+80S8yfO9bCfB90snBH",
      "include_colab_link": true
    },
    "kernelspec": {
      "name": "python3",
      "display_name": "Python 3"
    },
    "language_info": {
      "name": "python"
    }
  },
  "cells": [
    {
      "cell_type": "markdown",
      "metadata": {
        "id": "view-in-github",
        "colab_type": "text"
      },
      "source": [
        "<a href=\"https://colab.research.google.com/github/vyasamayuri/11239a102_DAA_LAB/blob/main/11239A102_exp6b_flodwarshall.ipynb\" target=\"_parent\"><img src=\"https://colab.research.google.com/assets/colab-badge.svg\" alt=\"Open In Colab\"/></a>"
      ]
    },
    {
      "cell_type": "code",
      "execution_count": 1,
      "metadata": {
        "colab": {
          "base_uri": "https://localhost:8080/"
        },
        "id": "FVrvE5GGulHT",
        "outputId": "4b57ed5c-d04a-4a15-eacf-e1503abbf4de"
      },
      "outputs": [
        {
          "output_type": "stream",
          "name": "stdout",
          "text": [
            "Shortest Path Distance Matrix:\n",
            "[0, 2, 2, 1]\n",
            "[2, 0, 3, 3]\n",
            "[2, 3, 0, 1]\n",
            "[1, 3, 1, 0]\n"
          ]
        },
        {
          "output_type": "execute_result",
          "data": {
            "text/plain": [
              "[None, None, None, None]"
            ]
          },
          "metadata": {},
          "execution_count": 1
        }
      ],
      "source": [
        "INF = float('inf')\n",
        "g = [\n",
        "    [0,   2,   INF, 1],\n",
        "    [2,   0,   3,   INF],\n",
        "    [INF, 3,   0,   1],\n",
        "    [1,   INF, 1,   0]\n",
        "]\n",
        "\n",
        "for k in range(4):\n",
        "    for i in range(4):\n",
        "        for j in range(4):\n",
        "            g[i][j] = min(g[i][j], g[i][k] + g[k][j])\n",
        "\n",
        "print(\"Shortest Path Distance Matrix:\")\n",
        "[print(row) for row in g]\n"
      ]
    }
  ]
}