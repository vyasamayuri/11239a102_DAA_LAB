{
  "nbformat": 4,
  "nbformat_minor": 0,
  "metadata": {
    "colab": {
      "provenance": [],
      "authorship_tag": "ABX9TyOvo+0IWZaHKgRXylEk0XQt",
      "include_colab_link": true
    },
    "kernelspec": {
      "name": "python3",
      "display_name": "Python 3"
    },
    "language_info": {
      "name": "python"
    }
  },
  "cells": [
    {
      "cell_type": "markdown",
      "metadata": {
        "id": "view-in-github",
        "colab_type": "text"
      },
      "source": [
        "<a href=\"https://colab.research.google.com/github/vyasamayuri/11239a102_DAA_LAB/blob/main/11239A102_exp4_fractional_greedy.ipynb\" target=\"_parent\"><img src=\"https://colab.research.google.com/assets/colab-badge.svg\" alt=\"Open In Colab\"/></a>"
      ]
    },
    {
      "cell_type": "code",
      "execution_count": 1,
      "metadata": {
        "colab": {
          "base_uri": "https://localhost:8080/"
        },
        "id": "BgB8gO1kmatw",
        "outputId": "048cd090-c28b-4704-a8ec-37e7e148dacc"
      },
      "outputs": [
        {
          "output_type": "stream",
          "name": "stdout",
          "text": [
            "Max value: 240.0\n",
            "Items taken:\n",
            "Value: 60, Weight: 10, Fraction: 1\n",
            "Value: 100, Weight: 20, Fraction: 1\n",
            "Value: 120, Weight: 30, Fraction: 0.6666666666666666\n"
          ]
        }
      ],
      "source": [
        "def knapsack(w, items):\n",
        "    items.sort(key=lambda x: x[0]/x[1], reverse=True)\n",
        "    res, taken = 0, []\n",
        "    for v, wt in items:\n",
        "        if w == 0: break\n",
        "        f = min(1, w/wt)\n",
        "        taken.append((v, wt, f))\n",
        "        res += v * f\n",
        "        w -= wt * f\n",
        "    print(f\"Max value: {res}\\nItems taken:\")\n",
        "    for v, wt, f in taken:\n",
        "        print(f\"Value: {v}, Weight: {wt}, Fraction: {f}\")\n",
        "\n",
        "# Example: (value, weight)\n",
        "items = [(60, 10), (100, 20), (120, 30)]\n",
        "capacity = 50\n",
        "knapsack(capacity, items)\n"
      ]
    }
  ]
}