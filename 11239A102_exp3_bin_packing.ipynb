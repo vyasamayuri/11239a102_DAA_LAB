{
  "nbformat": 4,
  "nbformat_minor": 0,
  "metadata": {
    "colab": {
      "provenance": [],
      "authorship_tag": "ABX9TyOaROVrDdtUVwF8qKuMT0F2",
      "include_colab_link": true
    },
    "kernelspec": {
      "name": "python3",
      "display_name": "Python 3"
    },
    "language_info": {
      "name": "python"
    }
  },
  "cells": [
    {
      "cell_type": "markdown",
      "metadata": {
        "id": "view-in-github",
        "colab_type": "text"
      },
      "source": [
        "<a href=\"https://colab.research.google.com/github/vyasamayuri/11239a102_DAA_LAB/blob/main/11239A102_exp3_bin_packing.ipynb\" target=\"_parent\"><img src=\"https://colab.research.google.com/assets/colab-badge.svg\" alt=\"Open In Colab\"/></a>"
      ]
    },
    {
      "cell_type": "code",
      "execution_count": 1,
      "metadata": {
        "colab": {
          "base_uri": "https://localhost:8080/"
        },
        "id": "QGPUOqI-keuI",
        "outputId": "52e332c0-a63a-4593-970b-4821955e6993"
      },
      "outputs": [
        {
          "output_type": "stream",
          "name": "stdout",
          "text": [
            "\n",
            "First Fit: 2 bins used\n",
            " Bin 1: [4, 1, 4, 1]\n",
            " Bin 2: [8, 2]\n",
            "\n",
            "Best Fit: 2 bins used\n",
            " Bin 1: [4, 4, 2]\n",
            " Bin 2: [8, 1, 1]\n",
            "\n",
            "First Fit Decreasing: 2 bins used\n",
            " Bin 1: [8, 2]\n",
            " Bin 2: [4, 4, 1, 1]\n"
          ]
        }
      ],
      "source": [
        "def first_fit(items, cap):\n",
        "    bins = []\n",
        "    for item in items:\n",
        "        for b in bins:\n",
        "            if sum(b)+item <= cap: b.append(item); break\n",
        "        else: bins.append([item])\n",
        "    return bins\n",
        "\n",
        "def best_fit(items, cap):\n",
        "    bins = []\n",
        "    for item in items:\n",
        "        best = -1\n",
        "        for i, b in enumerate(bins):\n",
        "            space = cap - sum(b)\n",
        "            if space >= item and (best == -1 or space < cap - sum(bins[best])): best = i\n",
        "        if best != -1: bins[best].append(item)\n",
        "        else: bins.append([item])\n",
        "    return bins\n",
        "\n",
        "def show(name, bins):\n",
        "    print(f\"\\n{name}: {len(bins)} bins used\")\n",
        "    for i, b in enumerate(bins): print(f\" Bin {i+1}: {b}\")\n",
        "\n",
        "items = [4, 8, 1, 4, 2, 1]\n",
        "capacity = 10\n",
        "\n",
        "show(\"First Fit\", first_fit(items, capacity))\n",
        "show(\"Best Fit\", best_fit(items, capacity))\n",
        "show(\"First Fit Decreasing\", first_fit(sorted(items, reverse=True), capacity))"
      ]
    }
  ]
}