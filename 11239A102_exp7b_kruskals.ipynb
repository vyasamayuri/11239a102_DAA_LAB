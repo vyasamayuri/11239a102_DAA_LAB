{
  "nbformat": 4,
  "nbformat_minor": 0,
  "metadata": {
    "colab": {
      "provenance": [],
      "authorship_tag": "ABX9TyNJwUeja41bjqKfnuFpuaMb",
      "include_colab_link": true
    },
    "kernelspec": {
      "name": "python3",
      "display_name": "Python 3"
    },
    "language_info": {
      "name": "python"
    }
  },
  "cells": [
    {
      "cell_type": "markdown",
      "metadata": {
        "id": "view-in-github",
        "colab_type": "text"
      },
      "source": [
        "<a href=\"https://colab.research.google.com/github/vyasamayuri/11239a102_DAA_LAB/blob/main/11239A102_exp7b_kruskals.ipynb\" target=\"_parent\"><img src=\"https://colab.research.google.com/assets/colab-badge.svg\" alt=\"Open In Colab\"/></a>"
      ]
    },
    {
      "cell_type": "code",
      "source": [
        "def kruskal(n, edges):\n",
        "    parent = list(range(n))\n",
        "    find = lambda x: x if parent[x] == x else find(parent[x])\n",
        "    # Use standard list indexing to update the parent list\n",
        "    union = lambda x, y: parent.__setitem__(find(x), find(y))\n",
        "\n",
        "    edges.sort(key=lambda x: x[2])\n",
        "    mst, cost = [], 0\n",
        "\n",
        "    for u, v, w in edges:\n",
        "        if find(u) != find(v):\n",
        "            union(u, v)\n",
        "            mst.append((u, v, w))\n",
        "            cost += w\n",
        "\n",
        "    print(\"Edges in MST:\")\n",
        "    for u, v, w in mst:\n",
        "        print(f\"{u} - {v} : {w}\")\n",
        "    print(f\"\\nTotal Cost: {cost}\")\n",
        "\n",
        "# Example usage\n",
        "kruskal(4, [(0,1,10), (0,2,6), (0,3,5), (1,3,15), (2,3,4)])"
      ],
      "metadata": {
        "colab": {
          "base_uri": "https://localhost:8080/"
        },
        "id": "XTNSYLRm6B1V",
        "outputId": "db2810d4-4a01-4524-d0f9-8bd5354de3fd"
      },
      "execution_count": 3,
      "outputs": [
        {
          "output_type": "stream",
          "name": "stdout",
          "text": [
            "Edges in MST:\n",
            "2 - 3 : 4\n",
            "0 - 3 : 5\n",
            "0 - 1 : 10\n",
            "\n",
            "Total Cost: 19\n"
          ]
        }
      ]
    }
  ]
}