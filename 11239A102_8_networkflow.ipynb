{
  "nbformat": 4,
  "nbformat_minor": 0,
  "metadata": {
    "colab": {
      "provenance": [],
      "authorship_tag": "ABX9TyMJQDrvsi04lHDM1ZRnBfqW",
      "include_colab_link": true
    },
    "kernelspec": {
      "name": "python3",
      "display_name": "Python 3"
    },
    "language_info": {
      "name": "python"
    }
  },
  "cells": [
    {
      "cell_type": "markdown",
      "metadata": {
        "id": "view-in-github",
        "colab_type": "text"
      },
      "source": [
        "<a href=\"https://colab.research.google.com/github/vyasamayuri/11239a102_DAA_LAB/blob/main/11239A102_8_networkflow.ipynb\" target=\"_parent\"><img src=\"https://colab.research.google.com/assets/colab-badge.svg\" alt=\"Open In Colab\"/></a>"
      ]
    },
    {
      "cell_type": "code",
      "execution_count": 1,
      "metadata": {
        "colab": {
          "base_uri": "https://localhost:8080/"
        },
        "id": "0eiLU-AOokmo",
        "outputId": "2471e6d0-f0b0-4404-cf8d-1a0817cf3c34"
      },
      "outputs": [
        {
          "output_type": "stream",
          "name": "stdout",
          "text": [
            "Source: 0, Sink: 5\n",
            "The maximum possible flow is: 23\n",
            "\n",
            "Augmenting paths:\n",
            "Path 1: [0, 2, 4, 5] with flow: 4\n",
            "Path 2: [0, 2, 4, 3, 5] with flow: 7\n",
            "Path 3: [0, 1, 3, 5] with flow: 12\n"
          ]
        }
      ],
      "source": [
        "class Graph:\n",
        "    def __init__(self, vertices): # Changed _init_ to __init__\n",
        "        self.V = vertices  # Number of vertices\n",
        "        self.graph = [[0] * vertices for _ in range(vertices)]  # Initialize graph with zero capacity\n",
        "\n",
        "    # Function to perform DFS and check if there is a path from source to sink\n",
        "    def dfs(self, s, t, parent):\n",
        "        visited = [False] * self.V\n",
        "        stack = [s]\n",
        "        visited[s] = True\n",
        "\n",
        "        while stack:\n",
        "            u = stack.pop()\n",
        "\n",
        "            for v in range(self.V):\n",
        "                if visited[v] == False and self.graph[u][v] > 0:  # If v is not visited and there's a residual capacity\n",
        "                    stack.append(v)\n",
        "                    visited[v] = True\n",
        "                    parent[v] = u\n",
        "\n",
        "                    if v == t:\n",
        "                        return True\n",
        "\n",
        "        return False\n",
        "\n",
        "    # Ford-Fulkerson algorithm to find the maximum flow\n",
        "    def ford_fulkerson(self, source, sink):\n",
        "        parent = [-1] * self.V  # Array to store the path\n",
        "        max_flow = 0  # Start with zero flow\n",
        "        all_paths = []  # To store the list of all augmenting paths\n",
        "\n",
        "        # Augment the flow while there is a path from source to sink\n",
        "        while self.dfs(source, sink, parent):\n",
        "            path_flow = float('Inf')\n",
        "            path = []  # To store the current augmenting path\n",
        "\n",
        "            # Find the maximum flow through the path found by DFS\n",
        "            s = sink\n",
        "            while s != source:\n",
        "                path.append(s)\n",
        "                path_flow = min(path_flow, self.graph[parent[s]][s])\n",
        "                s = parent[s]\n",
        "            path.append(source)\n",
        "            path.reverse()  # Reverse the path to show it from source to sink\n",
        "\n",
        "            # Store the current augmenting path\n",
        "            all_paths.append((path, path_flow))\n",
        "\n",
        "            # Update the residual capacities of the edges and reverse edges along the path\n",
        "            max_flow += path_flow\n",
        "            v = sink\n",
        "            while v != source:\n",
        "                u = parent[v]\n",
        "                self.graph[u][v] -= path_flow  # Reduce the capacity in the forward direction\n",
        "                self.graph[v][u] += path_flow  # Add the capacity in the reverse direction\n",
        "                v = parent[v]\n",
        "\n",
        "        return max_flow, all_paths\n",
        "\n",
        "\n",
        "# Example usage:\n",
        "if __name__ == \"__main__\": # Changed _name_ to __name__\n",
        "    # Create a graph and add edges\n",
        "    g = Graph(6)  # A graph with 6 vertices (0 to 5)\n",
        "\n",
        "    # Adding edges (u, v, capacity)\n",
        "    g.graph[0][1] = 16\n",
        "    g.graph[0][2] = 13\n",
        "    g.graph[1][2] = 10\n",
        "    g.graph[1][3] = 12\n",
        "    g.graph[2][1] = 4\n",
        "    g.graph[2][4] = 14\n",
        "    g.graph[3][2] = 9\n",
        "    g.graph[3][5] = 20\n",
        "    g.graph[4][3] = 7\n",
        "    g.graph[4][5] = 4\n",
        "\n",
        "    source = 0\n",
        "    sink = 5\n",
        "\n",
        "    max_flow, all_paths = g.ford_fulkerson(source, sink)\n",
        "\n",
        "    # Display the source, sink, maximum flow, and augmenting paths\n",
        "    print(f\"Source: {source}, Sink: {sink}\")\n",
        "    print(f\"The maximum possible flow is: {max_flow}\")\n",
        "\n",
        "    print(\"\\nAugmenting paths:\")\n",
        "    for i, (path, flow) in enumerate(all_paths):\n",
        "        print(f\"Path {i+1}: {path} with flow: {flow}\")"
      ]
    }
  ]
}