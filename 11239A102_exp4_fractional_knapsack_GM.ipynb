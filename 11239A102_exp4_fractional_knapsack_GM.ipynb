{
  "nbformat": 4,
  "nbformat_minor": 0,
  "metadata": {
    "colab": {
      "provenance": [],
      "authorship_tag": "ABX9TyNycil1ZF/s3XkWUpHDS4un",
      "include_colab_link": true
    },
    "kernelspec": {
      "name": "python3",
      "display_name": "Python 3"
    },
    "language_info": {
      "name": "python"
    }
  },
  "cells": [
    {
      "cell_type": "markdown",
      "metadata": {
        "id": "view-in-github",
        "colab_type": "text"
      },
      "source": [
        "<a href=\"https://colab.research.google.com/github/vyasamayuri/11239a102_DAA_LAB/blob/main/11239A102_exp4_fractional_knapsack_GM.ipynb\" target=\"_parent\"><img src=\"https://colab.research.google.com/assets/colab-badge.svg\" alt=\"Open In Colab\"/></a>"
      ]
    },
    {
      "cell_type": "code",
      "execution_count": 2,
      "metadata": {
        "colab": {
          "base_uri": "https://localhost:8080/"
        },
        "id": "5RYeScGJlCCW",
        "outputId": "b3afac0d-d701-4ea8-8596-f23aa03ca25e"
      },
      "outputs": [
        {
          "output_type": "stream",
          "name": "stdout",
          "text": [
            "Maximum Value: 240.0\n",
            "\n",
            "Items taken:\n",
            "Value     Weight    Fraction\n",
            "60        10        1/1\n",
            "100       20        1/1\n",
            "120       30        2/3\n"
          ]
        }
      ],
      "source": [
        "from fractions import Fraction\n",
        "\n",
        "items = [(60, 10), (100, 20), (120, 30)]  # (value, weight)\n",
        "capacity = 50\n",
        "\n",
        "items.sort(key=lambda x: x[0]/x[1], reverse=True)\n",
        "total_value = 0\n",
        "taken = []\n",
        "\n",
        "for value, weight in items:\n",
        "    if capacity >= weight:\n",
        "        capacity -= weight\n",
        "        total_value += value\n",
        "        taken.append((value, weight, Fraction(1)))\n",
        "    else:\n",
        "        fraction = Fraction(capacity, weight)\n",
        "        total_value += value * float(fraction)\n",
        "        taken.append((value, weight, fraction))\n",
        "        break\n",
        "\n",
        "print(f\"Maximum Value: {total_value}\\n\")\n",
        "print(\"Items taken:\")\n",
        "print(f\"{'Value':<10}{'Weight':<10}{'Fraction'}\")\n",
        "for v, w, f in taken:\n",
        "    print(f\"{v:<10}{w:<10}{f.numerator}/{f.denominator}\")"
      ]
    }
  ]
}