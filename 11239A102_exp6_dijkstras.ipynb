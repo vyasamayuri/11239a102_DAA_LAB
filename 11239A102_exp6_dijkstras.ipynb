{
  "nbformat": 4,
  "nbformat_minor": 0,
  "metadata": {
    "colab": {
      "provenance": [],
      "authorship_tag": "ABX9TyOg5DzY2BNb4BhAwEYCxeJE",
      "include_colab_link": true
    },
    "kernelspec": {
      "name": "python3",
      "display_name": "Python 3"
    },
    "language_info": {
      "name": "python"
    }
  },
  "cells": [
    {
      "cell_type": "markdown",
      "metadata": {
        "id": "view-in-github",
        "colab_type": "text"
      },
      "source": [
        "<a href=\"https://colab.research.google.com/github/vyasamayuri/11239a102_DAA_LAB/blob/main/11239A102_exp6_dijkstras.ipynb\" target=\"_parent\"><img src=\"https://colab.research.google.com/assets/colab-badge.svg\" alt=\"Open In Colab\"/></a>"
      ]
    },
    {
      "cell_type": "code",
      "execution_count": 1,
      "metadata": {
        "colab": {
          "base_uri": "https://localhost:8080/"
        },
        "id": "SoYKPspjqN_X",
        "outputId": "933a6d8e-6bbd-4410-ab9e-1928002d1771"
      },
      "outputs": [
        {
          "output_type": "stream",
          "name": "stdout",
          "text": [
            "Vertex | Prev | Dist\n",
            "  0    |   -   |   0  \n",
            "  1    |   0   |   2  \n",
            "  2    |   1   |   3  \n",
            "  3    |   4   |   8  \n",
            "  4    |   2   |   6  \n",
            "  5    |   3   |   9  \n"
          ]
        }
      ],
      "source": [
        "import heapq\n",
        "\n",
        "def dijkstra(g, start):\n",
        "    n, dist, prev = len(g), [float('inf')] * len(g), [None] * len(g)\n",
        "    dist[start], heap = 0, [(0, start)]\n",
        "    while heap:\n",
        "        d, u = heapq.heappop(heap)\n",
        "        for v, w in g[u]:\n",
        "            if dist[v] > d + w:\n",
        "                dist[v], prev[v] = d + w, u\n",
        "                heapq.heappush(heap, (dist[v], v))\n",
        "    print(\"Vertex | Prev | Dist\")\n",
        "    for i in range(n): print(f\"{i:^6} | {prev[i] if prev[i] is not None else '-':^5} | {dist[i]:^5}\")\n",
        "\n",
        "# Example graph\n",
        "graph = {0: [(1, 2), (2, 4)], 1: [(2, 1), (3, 7)], 2: [(4, 3)], 3: [(5, 1)], 4: [(3, 2), (5, 5)], 5: []}\n",
        "dijkstra([graph[i] for i in range(len(graph))], 0)\n"
      ]
    }
  ]
}