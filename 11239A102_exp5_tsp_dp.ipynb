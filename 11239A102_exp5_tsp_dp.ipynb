{
  "nbformat": 4,
  "nbformat_minor": 0,
  "metadata": {
    "colab": {
      "provenance": [],
      "authorship_tag": "ABX9TyMjue6G2fa7uIgvMZ+asz16",
      "include_colab_link": true
    },
    "kernelspec": {
      "name": "python3",
      "display_name": "Python 3"
    },
    "language_info": {
      "name": "python"
    }
  },
  "cells": [
    {
      "cell_type": "markdown",
      "metadata": {
        "id": "view-in-github",
        "colab_type": "text"
      },
      "source": [
        "<a href=\"https://colab.research.google.com/github/vyasamayuri/11239a102_DAA_LAB/blob/main/11239A102_exp5_tsp_dp.ipynb\" target=\"_parent\"><img src=\"https://colab.research.google.com/assets/colab-badge.svg\" alt=\"Open In Colab\"/></a>"
      ]
    },
    {
      "cell_type": "code",
      "execution_count": 1,
      "metadata": {
        "colab": {
          "base_uri": "https://localhost:8080/"
        },
        "id": "iKnUviVhoc13",
        "outputId": "3b47e53a-da86-45c9-91cc-882f38fad04e"
      },
      "outputs": [
        {
          "output_type": "stream",
          "name": "stdout",
          "text": [
            "Minimum cost: 80\n",
            "Shortest path: 0 → 1 → 3 → 2 → 0\n"
          ]
        }
      ],
      "source": [
        "from functools import lru_cache\n",
        "\n",
        "def tsp(g):\n",
        "    n = len(g)\n",
        "    @lru_cache(None)\n",
        "    def dp(mask, i):\n",
        "        if mask == (1 << n) - 1: return g[i][0], [0]\n",
        "        return min((g[i][j] + dp(mask | (1 << j), j)[0], [j] + dp(mask | (1 << j), j)[1])\n",
        "                   for j in range(n) if not mask & (1 << j))\n",
        "    c, p = dp(1, 0)\n",
        "    print(\"Minimum cost:\", c)\n",
        "    print(\"Shortest path:\", ' → '.join(map(str, [0] + p)))\n",
        "\n",
        "# Example\n",
        "tsp([[0,10,15,20],[10,0,35,25],[15,35,0,30],[20,25,30,0]])\n"
      ]
    }
  ]
}